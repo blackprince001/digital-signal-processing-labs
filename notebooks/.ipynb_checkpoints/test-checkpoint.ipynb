{
 "cells": [
  {
   "cell_type": "code",
   "execution_count": null,
   "id": "6052d892-0ab2-4873-b700-9c0be9e8fb36",
   "metadata": {},
   "outputs": [],
   "source": [
    "%plot gnuplot\n",
    "\n",
    "x = 10:0.01:10;\n",
    "y = sin(x);\n",
    "\n",
    "plot(x,y)"
   ]
  },
  {
   "cell_type": "code",
   "execution_count": null,
   "id": "b64a6dfd-54ae-483b-9d99-45ab201f1f23",
   "metadata": {},
   "outputs": [],
   "source": []
  }
 ],
 "metadata": {
  "kernelspec": {
   "display_name": "",
   "name": ""
  },
  "language_info": {
   "name": ""
  }
 },
 "nbformat": 4,
 "nbformat_minor": 5
}
